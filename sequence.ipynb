{
 "cells": [
  {
   "cell_type": "code",
   "execution_count": 2,
   "metadata": {
    "collapsed": true
   },
   "outputs": [],
   "source": [
    "import numpy as np\n",
    "import math"
   ]
  },
  {
   "cell_type": "code",
   "execution_count": 68,
   "metadata": {
    "collapsed": false
   },
   "outputs": [
    {
     "name": "stdout",
     "output_type": "stream",
     "text": [
      "Size of input/output = {14,9} with ratio of 0.700000, alpha = 1.500000, u = 0.500000 and pooling region size of 2.\n"
     ]
    }
   ],
   "source": [
    "nIn = 14\n",
    "ratio = 0.7\n",
    "poolSize = 2\n",
    "nOut = int(math.floor(nIn*ratio))\n",
    "alpha = (nIn - poolSize)/float(nOut - 1)\n",
    "u = 0.5\n",
    "print(\"Size of input/output = {%d,%d} with ratio of %f, alpha = %f, u = %f and pooling region size of %d.\" % (nIn,nOut,ratio,alpha,u,poolSize))"
   ]
  },
  {
   "cell_type": "code",
   "execution_count": 69,
   "metadata": {
    "collapsed": false
   },
   "outputs": [],
   "source": [
    "sequences = np.empty((nOut))\n",
    "for i in xrange(sequences.size):\n",
    "    if i == 0:\n",
    "        sequences[i] = 0\n",
    "    elif i == sequences.size-1:\n",
    "        sequences[i] = nIn - 2\n",
    "    else:\n",
    "        sequences[i] = int(math.ceil(alpha*(i+u))) - 1\n"
   ]
  },
  {
   "cell_type": "code",
   "execution_count": 70,
   "metadata": {
    "collapsed": false
   },
   "outputs": [
    {
     "name": "stdout",
     "output_type": "stream",
     "text": [
      "Pseudo random sequence\n",
      "[  0.   2.   3.   5.   6.   8.   9.  11.  12.]\n",
      "Pooling region 1 ==> from 0, to 1 \n",
      "Pooling region 2 ==> from 2, to 3 \n",
      "Pooling region 3 ==> from 3, to 4 \n",
      "Pooling region 4 ==> from 5, to 6 \n",
      "Pooling region 5 ==> from 6, to 7 \n",
      "Pooling region 6 ==> from 8, to 9 \n",
      "Pooling region 7 ==> from 9, to 10 \n",
      "Pooling region 8 ==> from 11, to 12 \n",
      "Pooling region 9 ==> from 12, to 13 \n"
     ]
    }
   ],
   "source": [
    "print(\"Pseudo random sequence\")\n",
    "print(sequences)\n",
    "for i in xrange(1,sequences.size+1):\n",
    "    print(\"Pooling region %d ==> from %d, to %d \" %(i,sequences[i-1],sequences[i-1]+poolSize-1))"
   ]
  }
 ],
 "metadata": {
  "kernelspec": {
   "display_name": "Python 2",
   "language": "python",
   "name": "python2"
  },
  "language_info": {
   "codemirror_mode": {
    "name": "ipython",
    "version": 2
   },
   "file_extension": ".py",
   "mimetype": "text/x-python",
   "name": "python",
   "nbconvert_exporter": "python",
   "pygments_lexer": "ipython2",
   "version": "2.7.6"
  }
 },
 "nbformat": 4,
 "nbformat_minor": 0
}
