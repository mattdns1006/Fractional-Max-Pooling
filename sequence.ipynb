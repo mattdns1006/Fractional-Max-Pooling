{
 "cells": [
  {
   "cell_type": "code",
   "execution_count": 1,
   "metadata": {
    "collapsed": true
   },
   "outputs": [],
   "source": [
    "import numpy as np\n",
    "import math"
   ]
  },
  {
   "cell_type": "code",
   "execution_count": 2,
   "metadata": {
    "collapsed": false
   },
   "outputs": [
    {
     "name": "stdout",
     "output_type": "stream",
     "text": [
      "Size of input/output = {14,9} with ratio of 0.700000, alpha = 1.500000, u = 0.500000 and pooling region size of 2.\n"
     ]
    }
   ],
   "source": [
    "nIn = 14\n",
    "ratio = 0.7\n",
    "poolSize = 2\n",
    "nOut = int(math.floor(nIn*ratio))\n",
    "alpha = (nIn - poolSize)/float(nOut - 1)\n",
    "u = 0.5\n",
    "print(\"Size of input/output = {%d,%d} with ratio of %f, alpha = %f, u = %f and pooling region size of %d.\" % (nIn,nOut,ratio,alpha,u,poolSize))"
   ]
  },
  {
   "cell_type": "code",
   "execution_count": 25,
   "metadata": {
    "collapsed": false
   },
   "outputs": [],
   "source": [
    "sequences = np.empty((nOut)).astype(np.int32)\n",
    "for i in xrange(sequences.size):\n",
    "    if i == 0:\n",
    "        sequences[i] = 0\n",
    "    elif i == sequences.size-1:\n",
    "        sequences[i] = nIn - 2\n",
    "    else:\n",
    "        sequences[i] = int(math.ceil(alpha*(i+u))) - 1\n"
   ]
  },
  {
   "cell_type": "code",
   "execution_count": 26,
   "metadata": {
    "collapsed": false
   },
   "outputs": [
    {
     "name": "stdout",
     "output_type": "stream",
     "text": [
      "Pseudo random sequence\n",
      "[ 0  2  3  5  6  8  9 11 12]\n",
      "Pooling region 1 ==> from 0, to 1 \n",
      "Pooling region 2 ==> from 2, to 3 \n",
      "Pooling region 3 ==> from 3, to 4 \n",
      "Pooling region 4 ==> from 5, to 6 \n",
      "Pooling region 5 ==> from 6, to 7 \n",
      "Pooling region 6 ==> from 8, to 9 \n",
      "Pooling region 7 ==> from 9, to 10 \n",
      "Pooling region 8 ==> from 11, to 12 \n",
      "Pooling region 9 ==> from 12, to 13 \n"
     ]
    }
   ],
   "source": [
    "print(\"Pseudo random sequence\")\n",
    "print(sequences)\n",
    "for i in xrange(1,sequences.size+1):\n",
    "    print(\"Pooling region %d ==> from %d, to %d \" %(i,sequences[i-1],sequences[i-1]+poolSize-1))"
   ]
  },
  {
   "cell_type": "code",
   "execution_count": 28,
   "metadata": {
    "collapsed": false
   },
   "outputs": [
    {
     "name": "stdout",
     "output_type": "stream",
     "text": [
      "Input and output before forward pass\n",
      "[ 0  1  2  3  4  5  6  7  8  9 10 11 12 13]\n",
      "[ 1 41 92 53 26 78 83 96 64 84 98 23 51  8]\n",
      "[ 0  2  3  5  6  8  9 11 12]\n",
      "[0 0 0 0 0 0 0 0 0]\n"
     ]
    }
   ],
   "source": [
    "x,y  = np.random.randint(0,100,nIn), np.empty((nOut)).astype(np.int32)\n",
    "print(\"Input and output before forward pass\")\n",
    "print(np.arange(nIn))\n",
    "print(x)\n",
    "print(sequences)\n",
    "print(y)"
   ]
  },
  {
   "cell_type": "code",
   "execution_count": 34,
   "metadata": {
    "collapsed": false
   },
   "outputs": [
    {
     "name": "stdout",
     "output_type": "stream",
     "text": [
      "Pooling region number 0 starting at 0\n",
      "(0, 1)\n",
      "(1, 41)\n",
      "('Max val = %f', 41)\n",
      "Pooling region number 1 starting at 2\n",
      "(2, 92)\n",
      "(3, 53)\n",
      "('Max val = %f', 92)\n",
      "Pooling region number 2 starting at 3\n",
      "(3, 53)\n",
      "(4, 26)\n",
      "('Max val = %f', 53)\n",
      "Pooling region number 3 starting at 5\n",
      "(5, 78)\n",
      "(6, 83)\n",
      "('Max val = %f', 83)\n",
      "Pooling region number 4 starting at 6\n",
      "(6, 83)\n",
      "(7, 96)\n",
      "('Max val = %f', 96)\n",
      "Pooling region number 5 starting at 8\n",
      "(8, 64)\n",
      "(9, 84)\n",
      "('Max val = %f', 84)\n",
      "Pooling region number 6 starting at 9\n",
      "(9, 84)\n",
      "(10, 98)\n",
      "('Max val = %f', 98)\n",
      "Pooling region number 7 starting at 11\n",
      "(11, 23)\n",
      "(12, 51)\n",
      "('Max val = %f', 51)\n",
      "Pooling region number 8 starting at 12\n",
      "(12, 51)\n",
      "(13, 8)\n",
      "('Max val = %f', 51)\n",
      "Output ==>\n",
      "[41 92 53 83 96 84 98 51 51]\n"
     ]
    }
   ],
   "source": [
    "for i in xrange(y.size):\n",
    "    idx = sequences[i]\n",
    "    print(\"Pooling region number %i starting at %d\" % (i,idx))\n",
    "    maxVal = -1e10\n",
    "    for j in xrange(poolSize):\n",
    "        idxj = int(idx+j)\n",
    "        val = x[idxj]\n",
    "        if val > maxVal:\n",
    "            maxVal = val\n",
    "    \n",
    "        print(idxj,val)\n",
    "    y[i] = maxVal\n",
    "    print(\"Max val = %f\",maxVal)\n",
    "print(\"Output ==>\")\n",
    "print(y)"
   ]
  },
  {
   "cell_type": "code",
   "execution_count": null,
   "metadata": {
    "collapsed": true
   },
   "outputs": [],
   "source": [
    "\n"
   ]
  }
 ],
 "metadata": {
  "kernelspec": {
   "display_name": "Python 2",
   "language": "python",
   "name": "python2"
  },
  "language_info": {
   "codemirror_mode": {
    "name": "ipython",
    "version": 2
   },
   "file_extension": ".py",
   "mimetype": "text/x-python",
   "name": "python",
   "nbconvert_exporter": "python",
   "pygments_lexer": "ipython2",
   "version": "2.7.6"
  }
 },
 "nbformat": 4,
 "nbformat_minor": 0
}
